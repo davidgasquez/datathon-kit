{
 "cells": [
  {
   "cell_type": "code",
   "execution_count": 1,
   "metadata": {},
   "outputs": [],
   "source": [
    "%reload_ext autoreload\n",
    "%autoreload 2\n",
    "\n",
    "import warnings\n",
    "\n",
    "import polars as pl\n",
    "from sklearn import set_config\n",
    "\n",
    "warnings.filterwarnings(\"ignore\")\n",
    "\n",
    "_ = pl.Config.set_tbl_rows(5)\n",
    "_ = pl.Config.set_tbl_cols(20)\n",
    "\n",
    "set_config(transform_output=\"polars\")"
   ]
  },
  {
   "cell_type": "code",
   "execution_count": 2,
   "metadata": {},
   "outputs": [],
   "source": [
    "from dttk.data import load_credit_fraud_dataset\n",
    "\n",
    "baskets_df, products_df = load_credit_fraud_dataset()"
   ]
  },
  {
   "cell_type": "code",
   "execution_count": 3,
   "metadata": {},
   "outputs": [],
   "source": [
    "X_raw = baskets_df.select([\"ID\"])\n",
    "y_raw = baskets_df.select([\"fraud_flag\"])"
   ]
  },
  {
   "cell_type": "code",
   "execution_count": 4,
   "metadata": {},
   "outputs": [],
   "source": [
    "import skrub\n",
    "\n",
    "vectorizer = skrub.TableVectorizer(\n",
    "    specific_transformers=[(\"passthrough\", [\"basket_ID\"])]\n",
    ")\n",
    "vectorized_products = pl.DataFrame(vectorizer.fit_transform(products_df))"
   ]
  },
  {
   "cell_type": "code",
   "execution_count": 5,
   "metadata": {},
   "outputs": [],
   "source": [
    "aggregated_products = vectorized_products.group_by(\"basket_ID\").agg(pl.all().mean())\n",
    "\n",
    "X_train = X_raw.join(\n",
    "    aggregated_products, left_on=\"ID\", right_on=\"basket_ID\", how=\"left\"\n",
    ")"
   ]
  },
  {
   "cell_type": "code",
   "execution_count": 6,
   "metadata": {},
   "outputs": [],
   "source": [
    "from skrub import AggTarget\n",
    "\n",
    "column_groups = [\"Nbr_of_prod_purchas\"]\n",
    "\n",
    "for col in column_groups:\n",
    "    aggregator = AggTarget(\n",
    "        main_key=col,\n",
    "        operations=[\"mean\", \"max\", \"min\"],\n",
    "    )\n",
    "\n",
    "    aggregator.fit(X_train, y_raw)  # type: ignore\n",
    "\n",
    "    X_train = aggregator.transform(X_train)  # type: ignore"
   ]
  },
  {
   "cell_type": "code",
   "execution_count": 7,
   "metadata": {},
   "outputs": [
    {
     "name": "stdout",
     "output_type": "stream",
     "text": [
      "R2: 0.11037235406204257\n"
     ]
    }
   ],
   "source": [
    "from sklearn.model_selection import cross_validate\n",
    "from skrub import tabular_learner\n",
    "\n",
    "X = X_train.to_numpy()\n",
    "y = y_raw.to_numpy()\n",
    "\n",
    "model = tabular_learner(\"regressor\")\n",
    "results = cross_validate(model, X, y, scoring=\"r2\")\n",
    "\n",
    "print(f\"R2: {results['test_score'].mean()}\")"
   ]
  },
  {
   "cell_type": "code",
   "execution_count": 8,
   "metadata": {},
   "outputs": [
    {
     "name": "stdout",
     "output_type": "stream",
     "text": [
      "R2: -0.013318538665771484\n"
     ]
    }
   ],
   "source": [
    "from tabpfn import TabPFNRegressor\n",
    "\n",
    "model = TabPFNRegressor(ignore_pretraining_limits=True, fit_mode=\"low_memory\")\n",
    "\n",
    "# Limit to 1000 rows for memory reasons\n",
    "results = cross_validate(model, X[:1000], y[:1000], scoring=\"r2\")\n",
    "\n",
    "print(f\"R2: {results['test_score'].mean()}\")"
   ]
  },
  {
   "cell_type": "code",
   "execution_count": 9,
   "metadata": {},
   "outputs": [
    {
     "name": "stdout",
     "output_type": "stream",
     "text": [
      "[flaml.automl.logger: 04-20 19:53:49] {1728} INFO - task = regression\n",
      "[flaml.automl.logger: 04-20 19:53:49] {1739} INFO - Evaluation method: holdout\n",
      "[flaml.automl.logger: 04-20 19:53:49] {1838} INFO - Minimizing error metric: 1-r2\n",
      "[flaml.automl.logger: 04-20 19:53:49] {1955} INFO - List of ML learners in AutoML Run: ['lgbm', 'rf', 'xgboost', 'extra_tree', 'xgb_limitdepth', 'sgd']\n",
      "[flaml.automl.logger: 04-20 19:53:49] {2258} INFO - iteration 0, current learner lgbm\n",
      "[flaml.automl.logger: 04-20 19:53:50] {2393} INFO - Estimated sufficient time budget=36609s. Estimated necessary time budget=262s.\n",
      "[flaml.automl.logger: 04-20 19:53:50] {2442} INFO -  at 0.6s,\testimator lgbm's best error=0.9956,\tbest estimator lgbm's best error=0.9956\n",
      "[flaml.automl.logger: 04-20 19:53:50] {2258} INFO - iteration 1, current learner lgbm\n",
      "[flaml.automl.logger: 04-20 19:53:50] {2442} INFO -  at 0.7s,\testimator lgbm's best error=0.9956,\tbest estimator lgbm's best error=0.9956\n",
      "[flaml.automl.logger: 04-20 19:53:50] {2258} INFO - iteration 2, current learner lgbm\n",
      "[flaml.automl.logger: 04-20 19:53:50] {2442} INFO -  at 0.7s,\testimator lgbm's best error=0.9824,\tbest estimator lgbm's best error=0.9824\n",
      "[flaml.automl.logger: 04-20 19:53:50] {2258} INFO - iteration 3, current learner lgbm\n",
      "[flaml.automl.logger: 04-20 19:53:50] {2442} INFO -  at 0.8s,\testimator lgbm's best error=0.9824,\tbest estimator lgbm's best error=0.9824\n",
      "[flaml.automl.logger: 04-20 19:53:50] {2258} INFO - iteration 4, current learner lgbm\n",
      "[flaml.automl.logger: 04-20 19:53:50] {2442} INFO -  at 0.9s,\testimator lgbm's best error=0.9824,\tbest estimator lgbm's best error=0.9824\n",
      "[flaml.automl.logger: 04-20 19:53:50] {2258} INFO - iteration 5, current learner lgbm\n",
      "[flaml.automl.logger: 04-20 19:53:50] {2442} INFO -  at 0.9s,\testimator lgbm's best error=0.9807,\tbest estimator lgbm's best error=0.9807\n",
      "[flaml.automl.logger: 04-20 19:53:50] {2258} INFO - iteration 6, current learner lgbm\n",
      "[flaml.automl.logger: 04-20 19:53:50] {2442} INFO -  at 1.0s,\testimator lgbm's best error=0.9807,\tbest estimator lgbm's best error=0.9807\n",
      "[flaml.automl.logger: 04-20 19:53:50] {2258} INFO - iteration 7, current learner lgbm\n",
      "[flaml.automl.logger: 04-20 19:53:50] {2442} INFO -  at 1.0s,\testimator lgbm's best error=0.9727,\tbest estimator lgbm's best error=0.9727\n",
      "[flaml.automl.logger: 04-20 19:53:50] {2258} INFO - iteration 8, current learner lgbm\n",
      "[flaml.automl.logger: 04-20 19:53:50] {2442} INFO -  at 1.0s,\testimator lgbm's best error=0.9699,\tbest estimator lgbm's best error=0.9699\n",
      "[flaml.automl.logger: 04-20 19:53:50] {2258} INFO - iteration 9, current learner lgbm\n",
      "[flaml.automl.logger: 04-20 19:53:50] {2442} INFO -  at 1.1s,\testimator lgbm's best error=0.9699,\tbest estimator lgbm's best error=0.9699\n",
      "[flaml.automl.logger: 04-20 19:53:50] {2258} INFO - iteration 10, current learner lgbm\n",
      "[flaml.automl.logger: 04-20 19:53:50] {2442} INFO -  at 1.2s,\testimator lgbm's best error=0.9699,\tbest estimator lgbm's best error=0.9699\n",
      "[flaml.automl.logger: 04-20 19:53:50] {2258} INFO - iteration 11, current learner lgbm\n",
      "[flaml.automl.logger: 04-20 19:53:51] {2442} INFO -  at 1.3s,\testimator lgbm's best error=0.9699,\tbest estimator lgbm's best error=0.9699\n",
      "[flaml.automl.logger: 04-20 19:53:51] {2258} INFO - iteration 12, current learner lgbm\n",
      "[flaml.automl.logger: 04-20 19:53:51] {2442} INFO -  at 1.7s,\testimator lgbm's best error=0.9396,\tbest estimator lgbm's best error=0.9396\n",
      "[flaml.automl.logger: 04-20 19:53:51] {2258} INFO - iteration 13, current learner sgd\n",
      "[flaml.automl.logger: 04-20 19:53:51] {2442} INFO -  at 1.7s,\testimator sgd's best error=1.4998,\tbest estimator lgbm's best error=0.9396\n",
      "[flaml.automl.logger: 04-20 19:53:51] {2258} INFO - iteration 14, current learner sgd\n",
      "[flaml.automl.logger: 04-20 19:53:51] {2442} INFO -  at 1.8s,\testimator sgd's best error=1.0138,\tbest estimator lgbm's best error=0.9396\n",
      "[flaml.automl.logger: 04-20 19:53:51] {2258} INFO - iteration 15, current learner sgd\n",
      "[flaml.automl.logger: 04-20 19:53:51] {2442} INFO -  at 1.9s,\testimator sgd's best error=1.0138,\tbest estimator lgbm's best error=0.9396\n",
      "[flaml.automl.logger: 04-20 19:53:51] {2258} INFO - iteration 16, current learner lgbm\n",
      "[flaml.automl.logger: 04-20 19:53:52] {2442} INFO -  at 3.0s,\testimator lgbm's best error=0.9229,\tbest estimator lgbm's best error=0.9229\n",
      "[flaml.automl.logger: 04-20 19:53:52] {2258} INFO - iteration 17, current learner sgd\n",
      "[flaml.automl.logger: 04-20 19:53:52] {2442} INFO -  at 3.0s,\testimator sgd's best error=1.0004,\tbest estimator lgbm's best error=0.9229\n",
      "[flaml.automl.logger: 04-20 19:53:52] {2258} INFO - iteration 18, current learner xgboost\n",
      "[flaml.automl.logger: 04-20 19:53:52] {2442} INFO -  at 3.1s,\testimator xgboost's best error=0.9939,\tbest estimator lgbm's best error=0.9229\n",
      "[flaml.automl.logger: 04-20 19:53:52] {2258} INFO - iteration 19, current learner xgboost\n",
      "[flaml.automl.logger: 04-20 19:53:52] {2442} INFO -  at 3.1s,\testimator xgboost's best error=0.9939,\tbest estimator lgbm's best error=0.9229\n",
      "[flaml.automl.logger: 04-20 19:53:52] {2258} INFO - iteration 20, current learner xgboost\n",
      "[flaml.automl.logger: 04-20 19:53:52] {2442} INFO -  at 3.2s,\testimator xgboost's best error=0.9917,\tbest estimator lgbm's best error=0.9229\n",
      "[flaml.automl.logger: 04-20 19:53:52] {2258} INFO - iteration 21, current learner extra_tree\n",
      "[flaml.automl.logger: 04-20 19:53:52] {2442} INFO -  at 3.2s,\testimator extra_tree's best error=0.9976,\tbest estimator lgbm's best error=0.9229\n",
      "[flaml.automl.logger: 04-20 19:53:52] {2258} INFO - iteration 22, current learner extra_tree\n",
      "[flaml.automl.logger: 04-20 19:53:53] {2442} INFO -  at 3.3s,\testimator extra_tree's best error=0.9758,\tbest estimator lgbm's best error=0.9229\n",
      "[flaml.automl.logger: 04-20 19:53:53] {2258} INFO - iteration 23, current learner lgbm\n",
      "[flaml.automl.logger: 04-20 19:53:53] {2442} INFO -  at 3.6s,\testimator lgbm's best error=0.8973,\tbest estimator lgbm's best error=0.8973\n",
      "[flaml.automl.logger: 04-20 19:53:53] {2258} INFO - iteration 24, current learner extra_tree\n",
      "[flaml.automl.logger: 04-20 19:53:53] {2442} INFO -  at 3.7s,\testimator extra_tree's best error=0.9758,\tbest estimator lgbm's best error=0.8973\n",
      "[flaml.automl.logger: 04-20 19:53:53] {2258} INFO - iteration 25, current learner sgd\n",
      "[flaml.automl.logger: 04-20 19:53:53] {2442} INFO -  at 3.8s,\testimator sgd's best error=1.0004,\tbest estimator lgbm's best error=0.8973\n",
      "[flaml.automl.logger: 04-20 19:53:53] {2258} INFO - iteration 26, current learner lgbm\n",
      "[flaml.automl.logger: 04-20 19:53:53] {2442} INFO -  at 4.1s,\testimator lgbm's best error=0.8973,\tbest estimator lgbm's best error=0.8973\n",
      "[flaml.automl.logger: 04-20 19:53:53] {2258} INFO - iteration 27, current learner xgboost\n",
      "[flaml.automl.logger: 04-20 19:53:53] {2442} INFO -  at 4.2s,\testimator xgboost's best error=0.9917,\tbest estimator lgbm's best error=0.8973\n",
      "[flaml.automl.logger: 04-20 19:53:53] {2258} INFO - iteration 28, current learner extra_tree\n",
      "[flaml.automl.logger: 04-20 19:53:54] {2442} INFO -  at 4.3s,\testimator extra_tree's best error=0.9758,\tbest estimator lgbm's best error=0.8973\n",
      "[flaml.automl.logger: 04-20 19:53:54] {2258} INFO - iteration 29, current learner extra_tree\n",
      "[flaml.automl.logger: 04-20 19:53:54] {2442} INFO -  at 4.4s,\testimator extra_tree's best error=0.9758,\tbest estimator lgbm's best error=0.8973\n",
      "[flaml.automl.logger: 04-20 19:53:54] {2258} INFO - iteration 30, current learner lgbm\n",
      "[flaml.automl.logger: 04-20 19:53:54] {2442} INFO -  at 4.7s,\testimator lgbm's best error=0.8973,\tbest estimator lgbm's best error=0.8973\n",
      "[flaml.automl.logger: 04-20 19:53:54] {2258} INFO - iteration 31, current learner lgbm\n",
      "[flaml.automl.logger: 04-20 19:53:54] {2442} INFO -  at 5.1s,\testimator lgbm's best error=0.8803,\tbest estimator lgbm's best error=0.8803\n",
      "[flaml.automl.logger: 04-20 19:53:54] {2258} INFO - iteration 32, current learner rf\n",
      "[flaml.automl.logger: 04-20 19:53:55] {2442} INFO -  at 5.3s,\testimator rf's best error=1.0015,\tbest estimator lgbm's best error=0.8803\n",
      "[flaml.automl.logger: 04-20 19:53:55] {2258} INFO - iteration 33, current learner rf\n",
      "[flaml.automl.logger: 04-20 19:53:55] {2442} INFO -  at 5.6s,\testimator rf's best error=1.0015,\tbest estimator lgbm's best error=0.8803\n",
      "[flaml.automl.logger: 04-20 19:53:55] {2258} INFO - iteration 34, current learner extra_tree\n",
      "[flaml.automl.logger: 04-20 19:53:56] {2442} INFO -  at 6.6s,\testimator extra_tree's best error=0.9353,\tbest estimator lgbm's best error=0.8803\n",
      "[flaml.automl.logger: 04-20 19:53:56] {2258} INFO - iteration 35, current learner lgbm\n",
      "[flaml.automl.logger: 04-20 19:53:56] {2442} INFO -  at 6.9s,\testimator lgbm's best error=0.8803,\tbest estimator lgbm's best error=0.8803\n",
      "[flaml.automl.logger: 04-20 19:53:56] {2258} INFO - iteration 36, current learner rf\n",
      "[flaml.automl.logger: 04-20 19:53:56] {2442} INFO -  at 7.2s,\testimator rf's best error=1.0015,\tbest estimator lgbm's best error=0.8803\n",
      "[flaml.automl.logger: 04-20 19:53:56] {2258} INFO - iteration 37, current learner sgd\n",
      "[flaml.automl.logger: 04-20 19:53:56] {2442} INFO -  at 7.2s,\testimator sgd's best error=1.0004,\tbest estimator lgbm's best error=0.8803\n",
      "[flaml.automl.logger: 04-20 19:53:56] {2258} INFO - iteration 38, current learner rf\n",
      "[flaml.automl.logger: 04-20 19:53:58] {2442} INFO -  at 8.7s,\testimator rf's best error=0.9831,\tbest estimator lgbm's best error=0.8803\n",
      "[flaml.automl.logger: 04-20 19:53:58] {2258} INFO - iteration 39, current learner extra_tree\n",
      "[flaml.automl.logger: 04-20 19:53:59] {2442} INFO -  at 9.6s,\testimator extra_tree's best error=0.9176,\tbest estimator lgbm's best error=0.8803\n",
      "[flaml.automl.logger: 04-20 19:53:59] {2258} INFO - iteration 40, current learner lgbm\n",
      "[flaml.automl.logger: 04-20 19:53:59] {2442} INFO -  at 9.9s,\testimator lgbm's best error=0.8803,\tbest estimator lgbm's best error=0.8803\n",
      "[flaml.automl.logger: 04-20 19:53:59] {2258} INFO - iteration 41, current learner sgd\n",
      "[flaml.automl.logger: 04-20 19:53:59] {2442} INFO -  at 9.9s,\testimator sgd's best error=1.0004,\tbest estimator lgbm's best error=0.8803\n",
      "[flaml.automl.logger: 04-20 19:53:59] {2258} INFO - iteration 42, current learner xgboost\n",
      "[flaml.automl.logger: 04-20 19:53:59] {2442} INFO -  at 10.0s,\testimator xgboost's best error=0.9917,\tbest estimator lgbm's best error=0.8803\n",
      "[flaml.automl.logger: 04-20 19:54:00] {2685} INFO - retrain lgbm for 0.4s\n",
      "[flaml.automl.logger: 04-20 19:54:00] {2688} INFO - retrained model: LGBMRegressor(colsample_bytree=np.float64(0.9833230461501101),\n",
      "              learning_rate=np.float64(0.2461596314880506), max_bin=255,\n",
      "              min_child_samples=5, n_estimators=9, n_jobs=-1, num_leaves=80,\n",
      "              reg_alpha=np.float64(0.003934614746573571),\n",
      "              reg_lambda=np.float64(0.17258077218430762), verbose=-1)\n",
      "[flaml.automl.logger: 04-20 19:54:00] {1985} INFO - fit succeeded\n",
      "[flaml.automl.logger: 04-20 19:54:00] {1986} INFO - Time taken to find the best model: 5.064043760299683\n"
     ]
    }
   ],
   "source": [
    "from flaml import AutoML\n",
    "\n",
    "automl = AutoML(metric=\"r2\", time_budget=10)\n",
    "\n",
    "automl.fit(X, y, task=\"regression\")"
   ]
  }
 ],
 "metadata": {
  "kernelspec": {
   "display_name": ".venv",
   "language": "python",
   "name": "python3"
  },
  "language_info": {
   "codemirror_mode": {
    "name": "ipython",
    "version": 3
   },
   "file_extension": ".py",
   "mimetype": "text/x-python",
   "name": "python",
   "nbconvert_exporter": "python",
   "pygments_lexer": "ipython3",
   "version": "3.12.8"
  }
 },
 "nbformat": 4,
 "nbformat_minor": 2
}
