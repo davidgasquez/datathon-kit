{
 "cells": [
  {
   "cell_type": "code",
   "execution_count": 1,
   "metadata": {},
   "outputs": [],
   "source": [
    "%reload_ext autoreload\n",
    "%autoreload 2\n",
    "\n",
    "import warnings\n",
    "\n",
    "import polars as pl\n",
    "from sklearn import set_config\n",
    "\n",
    "warnings.filterwarnings(\"ignore\")\n",
    "\n",
    "_ = pl.Config.set_tbl_rows(5)\n",
    "_ = pl.Config.set_tbl_cols(20)\n",
    "\n",
    "set_config(transform_output=\"polars\")"
   ]
  },
  {
   "cell_type": "code",
   "execution_count": 2,
   "metadata": {},
   "outputs": [],
   "source": [
    "from dttk.data import load_credit_fraud_dataset\n",
    "\n",
    "baskets_df, products_df = load_credit_fraud_dataset()"
   ]
  },
  {
   "cell_type": "code",
   "execution_count": 3,
   "metadata": {},
   "outputs": [],
   "source": [
    "X_raw = baskets_df.select([\"ID\"])\n",
    "y_raw = baskets_df.select([\"fraud_flag\"])"
   ]
  },
  {
   "cell_type": "code",
   "execution_count": 4,
   "metadata": {},
   "outputs": [],
   "source": [
    "import skrub\n",
    "\n",
    "vectorizer = skrub.TableVectorizer(\n",
    "    specific_transformers=[(\"passthrough\", [\"basket_ID\"])]\n",
    ")\n",
    "vectorized_products = pl.DataFrame(vectorizer.fit_transform(products_df))"
   ]
  },
  {
   "cell_type": "code",
   "execution_count": 5,
   "metadata": {},
   "outputs": [],
   "source": [
    "aggregated_products = vectorized_products.group_by(\"basket_ID\").agg(pl.all().mean())\n",
    "\n",
    "X_train = X_raw.join(\n",
    "    aggregated_products, left_on=\"ID\", right_on=\"basket_ID\", how=\"left\"\n",
    ")"
   ]
  },
  {
   "cell_type": "code",
   "execution_count": 6,
   "metadata": {},
   "outputs": [],
   "source": [
    "from skrub import AggTarget\n",
    "\n",
    "column_groups = [\"Nbr_of_prod_purchas\"]\n",
    "\n",
    "for col in column_groups:\n",
    "    aggregator = AggTarget(\n",
    "        main_key=col,\n",
    "        operations=[\"mean\", \"max\", \"min\"],\n",
    "    )\n",
    "\n",
    "    aggregator.fit(X_train, y_raw)  # type: ignore\n",
    "\n",
    "    X_train = aggregator.transform(X_train)  # type: ignore"
   ]
  },
  {
   "cell_type": "code",
   "execution_count": null,
   "metadata": {},
   "outputs": [],
   "source": [
    "from sklearn.model_selection import cross_validate\n",
    "from skrub import tabular_learner\n",
    "\n",
    "X = X_train.to_numpy()\n",
    "y = y_raw.to_numpy()\n",
    "\n",
    "model = tabular_learner(\"regressor\")\n",
    "results = cross_validate(model, X, y, scoring=\"r2\")\n",
    "\n",
    "print(f\"R2: {results['test_score'].mean()}\")"
   ]
  },
  {
   "cell_type": "code",
   "execution_count": null,
   "metadata": {},
   "outputs": [],
   "source": [
    "from tabpfn import TabPFNRegressor\n",
    "\n",
    "model = TabPFNRegressor(ignore_pretraining_limits=True, fit_mode=\"low_memory\")\n",
    "\n",
    "# Limit to 1000 rows for memory reasons\n",
    "results = cross_validate(model, X[:1000], y[:1000], scoring=\"r2\")\n",
    "\n",
    "print(f\"R2: {results['test_score'].mean()}\")"
   ]
  },
  {
   "cell_type": "code",
   "execution_count": null,
   "metadata": {},
   "outputs": [],
   "source": [
    "from flaml import AutoML\n",
    "\n",
    "automl = AutoML(metric=\"r2\", time_budget=10)\n",
    "\n",
    "automl.fit(X, y, task=\"regression\")"
   ]
  }
 ],
 "metadata": {
  "kernelspec": {
   "display_name": ".venv",
   "language": "python",
   "name": "python3"
  },
  "language_info": {
   "codemirror_mode": {
    "name": "ipython",
    "version": 3
   },
   "file_extension": ".py",
   "mimetype": "text/x-python",
   "name": "python",
   "nbconvert_exporter": "python",
   "pygments_lexer": "ipython3",
   "version": "3.12.8"
  }
 },
 "nbformat": 4,
 "nbformat_minor": 2
}
