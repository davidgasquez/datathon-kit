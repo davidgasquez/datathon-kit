{
 "cells": [
  {
   "cell_type": "code",
   "execution_count": 1,
   "metadata": {},
   "outputs": [],
   "source": [
    "%reload_ext autoreload\n",
    "%autoreload 2\n",
    "\n",
    "import warnings\n",
    "\n",
    "import polars as pl\n",
    "\n",
    "# from sklearn import set_config\n",
    "\n",
    "warnings.filterwarnings(\"ignore\")\n",
    "\n",
    "_ = pl.Config.set_tbl_rows(5)\n",
    "_ = pl.Config.set_tbl_cols(20)\n",
    "\n",
    "# set_config(transform_output=\"polars\")"
   ]
  },
  {
   "cell_type": "code",
   "execution_count": 2,
   "metadata": {},
   "outputs": [
    {
     "data": {
      "text/html": [
       "<div><style>\n",
       ".dataframe > thead > tr,\n",
       ".dataframe > tbody > tr {\n",
       "  text-align: right;\n",
       "  white-space: pre-wrap;\n",
       "}\n",
       "</style>\n",
       "<small>shape: (5, 10)</small><table border=\"1\" class=\"dataframe\"><thead><tr><th>carat</th><th>cut</th><th>color</th><th>clarity</th><th>depth</th><th>table</th><th>x</th><th>y</th><th>z</th><th>price</th></tr><tr><td>f64</td><td>cat</td><td>cat</td><td>cat</td><td>f64</td><td>f64</td><td>f64</td><td>f64</td><td>f64</td><td>f64</td></tr></thead><tbody><tr><td>0.23</td><td>&quot;2&quot;</td><td>&quot;1&quot;</td><td>&quot;3&quot;</td><td>61.5</td><td>55.0</td><td>3.95</td><td>3.98</td><td>2.43</td><td>5.78996</td></tr><tr><td>0.21</td><td>&quot;3&quot;</td><td>&quot;1&quot;</td><td>&quot;2&quot;</td><td>59.8</td><td>61.0</td><td>3.89</td><td>3.84</td><td>2.31</td><td>5.78996</td></tr><tr><td>0.23</td><td>&quot;1&quot;</td><td>&quot;1&quot;</td><td>&quot;4&quot;</td><td>56.9</td><td>65.0</td><td>4.05</td><td>4.07</td><td>2.31</td><td>5.793014</td></tr><tr><td>0.29</td><td>&quot;3&quot;</td><td>&quot;5&quot;</td><td>&quot;5&quot;</td><td>62.4</td><td>58.0</td><td>4.2</td><td>4.23</td><td>2.63</td><td>5.814131</td></tr><tr><td>0.31</td><td>&quot;1&quot;</td><td>&quot;6&quot;</td><td>&quot;3&quot;</td><td>63.3</td><td>58.0</td><td>4.34</td><td>4.35</td><td>2.75</td><td>5.817111</td></tr></tbody></table></div>"
      ],
      "text/plain": [
       "shape: (5, 10)\n",
       "┌───────┬─────┬───────┬─────────┬───────┬───────┬──────┬──────┬──────┬──────────┐\n",
       "│ carat ┆ cut ┆ color ┆ clarity ┆ depth ┆ table ┆ x    ┆ y    ┆ z    ┆ price    │\n",
       "│ ---   ┆ --- ┆ ---   ┆ ---     ┆ ---   ┆ ---   ┆ ---  ┆ ---  ┆ ---  ┆ ---      │\n",
       "│ f64   ┆ cat ┆ cat   ┆ cat     ┆ f64   ┆ f64   ┆ f64  ┆ f64  ┆ f64  ┆ f64      │\n",
       "╞═══════╪═════╪═══════╪═════════╪═══════╪═══════╪══════╪══════╪══════╪══════════╡\n",
       "│ 0.23  ┆ 2   ┆ 1     ┆ 3       ┆ 61.5  ┆ 55.0  ┆ 3.95 ┆ 3.98 ┆ 2.43 ┆ 5.78996  │\n",
       "│ 0.21  ┆ 3   ┆ 1     ┆ 2       ┆ 59.8  ┆ 61.0  ┆ 3.89 ┆ 3.84 ┆ 2.31 ┆ 5.78996  │\n",
       "│ 0.23  ┆ 1   ┆ 1     ┆ 4       ┆ 56.9  ┆ 65.0  ┆ 4.05 ┆ 4.07 ┆ 2.31 ┆ 5.793014 │\n",
       "│ 0.29  ┆ 3   ┆ 5     ┆ 5       ┆ 62.4  ┆ 58.0  ┆ 4.2  ┆ 4.23 ┆ 2.63 ┆ 5.814131 │\n",
       "│ 0.31  ┆ 1   ┆ 6     ┆ 3       ┆ 63.3  ┆ 58.0  ┆ 4.34 ┆ 4.35 ┆ 2.75 ┆ 5.817111 │\n",
       "└───────┴─────┴───────┴─────────┴───────┴───────┴──────┴──────┴──────┴──────────┘"
      ]
     },
     "execution_count": 2,
     "metadata": {},
     "output_type": "execute_result"
    }
   ],
   "source": [
    "import polars as pl\n",
    "\n",
    "train_df = pl.read_csv(\n",
    "    \"https://huggingface.co/datasets/inria-soda/tabular-benchmark/resolve/main/reg_cat/diamonds.csv\"\n",
    ")\n",
    "\n",
    "train_df = train_df.with_columns(\n",
    "    pl.col(\"cut\").cast(pl.String).cast(pl.Categorical),\n",
    "    pl.col(\"color\").cast(pl.String).cast(pl.Categorical),\n",
    "    pl.col(\"clarity\").cast(pl.String).cast(pl.Categorical),\n",
    ")\n",
    "\n",
    "train_df.head()"
   ]
  },
  {
   "cell_type": "code",
   "execution_count": 14,
   "metadata": {},
   "outputs": [
    {
     "name": "stdout",
     "output_type": "stream",
     "text": [
      "R2: 0.8274079052028913\n"
     ]
    }
   ],
   "source": [
    "import polars.selectors as cs\n",
    "\n",
    "# from lightgbm import LGBMRegressor\n",
    "from sklearn.model_selection import cross_validate\n",
    "from skrub import AggTarget, Cleaner, tabular_learner\n",
    "\n",
    "# Clean\n",
    "c = Cleaner()\n",
    "train_df: pl.DataFrame = c.fit_transform(train_df)  # type: ignore\n",
    "\n",
    "# Target Encoding\n",
    "X = train_df.drop(\"price\")\n",
    "y = train_df.select(\"price\")\n",
    "\n",
    "for col in X.select(cs.categorical()).columns:\n",
    "    aggregator = AggTarget(\n",
    "        main_key=col,\n",
    "        operations=[\n",
    "            \"mean\",\n",
    "        ],\n",
    "    )\n",
    "\n",
    "    aggregator.fit(X, y)\n",
    "\n",
    "    X = aggregator.transform(X)\n",
    "\n",
    "# lgbm = LGBMRegressor(force_row_wise=True)\n",
    "# model = tabular_learner(lgbm)\n",
    "model = tabular_learner(\"regressor\")\n",
    "results = cross_validate(model, X, y)  # type: ignore\n",
    "\n",
    "print(f\"R2: {results['test_score'].mean()}\")"
   ]
  },
  {
   "cell_type": "code",
   "execution_count": 15,
   "metadata": {},
   "outputs": [],
   "source": [
    "# import optuna\n",
    "# from sklearn.model_selection import cross_val_score\n",
    "\n",
    "\n",
    "# def objective(trial):\n",
    "#     # Define parameter ranges for optimization\n",
    "#     params = {\"regressor__n_estimators\": trial.suggest_int(\"n_estimators\", 100, 1000)}\n",
    "\n",
    "#     # Create a new pipeline with the suggested parameters\n",
    "#     pipeline.set_params(**params)\n",
    "\n",
    "#     # Fit and return the score\n",
    "#     pipeline.fit(X, y)\n",
    "#     cvs = cross_val_score(pipeline, X, y, cv=5).mean()  # type: ignore\n",
    "#     return cvs\n",
    "\n",
    "\n",
    "# optuna.logging.set_verbosity(optuna.logging.WARNING)\n",
    "# study = optuna.create_study()\n",
    "# study.optimize(objective, n_trials=10, n_jobs=-1)  # type: ignore\n",
    "\n",
    "# print(study.best_params)\n",
    "# print(study.best_value)\n"
   ]
  }
 ],
 "metadata": {
  "kernelspec": {
   "display_name": ".venv",
   "language": "python",
   "name": "python3"
  },
  "language_info": {
   "codemirror_mode": {
    "name": "ipython",
    "version": 3
   },
   "file_extension": ".py",
   "mimetype": "text/x-python",
   "name": "python",
   "nbconvert_exporter": "python",
   "pygments_lexer": "ipython3",
   "version": "3.13.1"
  }
 },
 "nbformat": 4,
 "nbformat_minor": 2
}
